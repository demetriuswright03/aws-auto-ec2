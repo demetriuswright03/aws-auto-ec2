{
  "nbformat": 4,
  "nbformat_minor": 0,
  "metadata": {
    "colab": {
      "provenance": [],
      "authorship_tag": "ABX9TyNU5Y3Ggg90EJXAEVcnainr",
      "include_colab_link": true
    },
    "kernelspec": {
      "name": "python3",
      "display_name": "Python 3"
    },
    "language_info": {
      "name": "python"
    }
  },
  "cells": [
    {
      "cell_type": "markdown",
      "metadata": {
        "id": "view-in-github",
        "colab_type": "text"
      },
      "source": [
        "<a href=\"https://colab.research.google.com/github/demetriuswright03/aws-auto-ec2/blob/main/launch_ec2.ipynb\" target=\"_parent\"><img src=\"https://colab.research.google.com/assets/colab-badge.svg\" alt=\"Open In Colab\"/></a>"
      ]
    },
    {
      "cell_type": "markdown",
      "source": [
        "First, manual launch of ec2 instance"
      ],
      "metadata": {
        "id": "rFZqnN7qI_18"
      }
    },
    {
      "cell_type": "code",
      "execution_count": null,
      "metadata": {
        "id": "lMoTia-l3qyv"
      },
      "outputs": [],
      "source": [
        "#@title Dependecies\n",
        "\n",
        "!pip install boto3\n",
        "import boto3"
      ]
    }
  ]
}